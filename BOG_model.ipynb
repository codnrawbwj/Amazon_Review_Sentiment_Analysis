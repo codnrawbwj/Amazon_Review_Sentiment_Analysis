{
 "cells": [
  {
   "cell_type": "markdown",
   "metadata": {},
   "source": [
    "This is a Bag-of-Words model that will classify Amazon customer's review rating and turn into sentiment analysis.\n",
    "\n",
    "Dataset: http://jmcauley.ucsd.edu/data/amazon/ - reviews_Video_Games_5.json\n",
    "Reference: https://medium.com/@qempsil0914/machine-learning-nlp-text-classification-with-amazon-review-data-using-python3-step-by-step-3fb0cc0cecc1\n",
    "\n",
    "This notebook will perfore followings:\n",
    "\n",
    "1. Data conversion from json to csv\n",
    "2. Data preprocessing and labeling\n",
    "3. Spliting datasets for training and testing purpose\n",
    "4. Contructing a Bag-of-Words model"
   ]
  },
  {
   "cell_type": "code",
   "execution_count": 1,
   "metadata": {},
   "outputs": [],
   "source": [
    "# 1. Data conversion\n",
    "# Since the dataset is json format, it needs to be converted into csv to be used in a more easier way.\n",
    "# Reference: https://github.com/Amber0914/NLP-Text_Classification/blob/master/convert_json_to_csv.py\n",
    "\n",
    "import json\n",
    "import csv\n",
    "import os\n",
    "\n",
    "fromJson = open(os.path.expanduser(\"~/Desktop/Bag-of-Words_model/reviews_Video_Games_5.json\"), 'r', encoding=\"utf-8\")\n",
    "toCsv = open(\"reviews_Video_Games_5.csv\", \"w\", encoding=\"utf-8\")\n",
    "\n",
    "with toCsv as output:\n",
    "    csvFile = csv.writer(output)\n",
    "    lines = fromJson.readlines()\n",
    "    isHeadline = True\n",
    "    \n",
    "    for line in lines:\n",
    "        tempCsv = json.loads(line)\n",
    "        if isHeadline:\n",
    "            isHeadline = False\n",
    "            csvFile.writerow(tempCsv)\n",
    "        csvFile.writerow(tempCsv.values())"
   ]
  },
  {
   "cell_type": "code",
   "execution_count": 16,
   "metadata": {},
   "outputs": [],
   "source": [
    "# 2. Preprocessing and Labeling\n",
    "# Since the main object of this model is not only text classification, it needs to label each data with 2 labels; 1 for positive and 2 for negative.\n",
    "# By using text classification, reviews with rating under 3 will be labelled 2 and over 3 with label 1.\n",
    "import pandas as pd\n",
    "\n",
    "convertedCsv = pd.read_csv(\"reviews_Video_Games_5.csv\")\n",
    "convertedCsv['overall'] = convertedCsv['overall'].astype(object)\n",
    "convertedCsv['reviewText'] = convertedCsv['reviewText'].astype(object)"
   ]
  },
  {
   "cell_type": "code",
   "execution_count": 17,
   "metadata": {},
   "outputs": [
    {
     "name": "stdout",
     "output_type": "stream",
     "text": [
      "0         2\n",
      "1         1\n",
      "2         2\n",
      "3         1\n",
      "4         1\n",
      "         ..\n",
      "231775    1\n",
      "231776    2\n",
      "231777    2\n",
      "231778    2\n",
      "231779    2\n",
      "Name: label, Length: 231736, dtype: int64\n"
     ]
    }
   ],
   "source": [
    "# The model will only use the review and rating, therefore extract 'reviewText' and 'overall' section only\n",
    "amazonDS = {'rating': convertedCsv['overall'], 'review': convertedCsv['reviewText']}\n",
    "amazonDS = pd.DataFrame(data = amazonDS)\n",
    "amazonDS = amazonDS.dropna()\n",
    "\n",
    "# Label data\n",
    "amazonDS['label'] = amazonDS['rating'].apply(lambda x: 1 if str(x) > '3' else 2)\n",
    "amazonDS = amazonDS.dropna()\n",
    "print(amazonDS['label'])"
   ]
  },
  {
   "cell_type": "code",
   "execution_count": 18,
   "metadata": {},
   "outputs": [],
   "source": [
    "# 3. Test and Train dataset\n",
    "from sklearn.model_selection import train_test_split\n",
    "\n",
    "amazonReview = pd.DataFrame(amazonDS, columns=['review'])\n",
    "amazonLabel = pd.DataFrame(amazonDS, columns=['label'])\n",
    "\n",
    "trainX, trainY, testX, testY = train_test_split(amazonReview, amazonLabel, random_state=42)"
   ]
  },
  {
   "cell_type": "code",
   "execution_count": 21,
   "metadata": {},
   "outputs": [],
   "source": [
    "# 4.Model Construction\n",
    "# BOG model with CountVectorizer\n",
    "\n",
    "from sklearn.feature_extraction.text import CountVectorizer\n",
    "\n",
    "# Token must be words\n",
    "BOG_Model = CountVectorizer(token_pattern=r'\\b\\w+\\b')\n",
    "train_vec = BOG_Model.fit_transform(trainX['review'])\n"
   ]
  },
  {
   "cell_type": "code",
   "execution_count": 22,
   "metadata": {},
   "outputs": [
    {
     "name": "stdout",
     "output_type": "stream",
     "text": [
      "  (0, 67890)\t1\n",
      "  (0, 71494)\t1\n",
      "  (0, 81037)\t1\n",
      "  (0, 86304)\t1\n",
      "  (0, 96011)\t1\n",
      "  (0, 158440)\t2\n"
     ]
    }
   ],
   "source": [
    "tempTest = ['I love this game. This is GOAT!']\n",
    "test_vec = BOG_Model.transform(tempTest)\n",
    "print(test_vec)"
   ]
  }
 ],
 "metadata": {
  "interpreter": {
   "hash": "31f2aee4e71d21fbe5cf8b01ff0e069b9275f58929596ceb00d14d90e3e16cd6"
  },
  "kernelspec": {
   "display_name": "Python 3.8.9 64-bit",
   "language": "python",
   "name": "python3"
  },
  "language_info": {
   "codemirror_mode": {
    "name": "ipython",
    "version": 3
   },
   "file_extension": ".py",
   "mimetype": "text/x-python",
   "name": "python",
   "nbconvert_exporter": "python",
   "pygments_lexer": "ipython3",
   "version": "3.8.9"
  },
  "orig_nbformat": 4
 },
 "nbformat": 4,
 "nbformat_minor": 2
}

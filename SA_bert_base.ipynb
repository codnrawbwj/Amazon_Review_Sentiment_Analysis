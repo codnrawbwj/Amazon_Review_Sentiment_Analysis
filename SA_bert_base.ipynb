{
 "cells": [
  {
   "cell_type": "markdown",
   "metadata": {},
   "source": [
    "This code was adapted from https://www.tensorflow.org/text/tutorials/classify_text_with_bert.<br>\n",
    "There is a an error when fine-tuning, possibly a shape mismatch. "
   ]
  },
  {
   "cell_type": "code",
   "execution_count": null,
   "metadata": {},
   "outputs": [],
   "source": [
    "! pip install tensorflow"
   ]
  },
  {
   "cell_type": "code",
   "execution_count": null,
   "metadata": {},
   "outputs": [],
   "source": [
    "! pip install matplotlib\n",
    "! pip install pandas\n",
    "! pip install numpy\n",
    "! pip install sklearn"
   ]
  },
  {
   "cell_type": "code",
   "execution_count": 1,
   "metadata": {},
   "outputs": [],
   "source": [
    "import os"
   ]
  },
  {
   "cell_type": "code",
   "execution_count": 8,
   "metadata": {},
   "outputs": [],
   "source": [
    "### requires test.ft.txt and train.ft.txt from https://www.kaggle.com/datasets/bittlingmayer/amazonreviews\n",
    "#   is downloaded and extracted to local directory or uploaded to colab runtime\n",
    "# check for directory structure needed for tf.keras.utils.text_dataset_from_directory\n",
    "# if directories not found, create directories and files from original .txt files\n",
    "# runtime on local machine: approx 15-20 minutes\n",
    "if not os.path.isdir('AmazonReviews'):\n",
    "    os.mkdir('AmazonReviews')\n",
    "    count = 1\n",
    "    if not os.path.isdir('AmazonReviews/train'):\n",
    "        os.mkdir('AmazonReviews/train')\n",
    "        os.mkdir('AmazonReviews/train/neg')\n",
    "        os.mkdir('AmazonReviews/train/pos')\n",
    "        with open('train.ft.txt', mode='r', encoding='utf-8') as f_read:\n",
    "            eof = False\n",
    "            while not eof:\n",
    "                text_split = []\n",
    "                #append_list = []\n",
    "                text = f_read.readline()\n",
    "                if text == '':\n",
    "                    eof = True\n",
    "                else:\n",
    "                    text_split = text.split(' ')\n",
    "                    label = text_split[0]\n",
    "                    if label[-1] == '1':\n",
    "                        write_path = 'AmazonReviews/train/neg/'\n",
    "                    else:\n",
    "                        write_path = 'AmazonReviews/train/pos/'\n",
    "                    #append_list = [i for i in text_split[1:-1]]\n",
    "                    #append_text = ' '.join(append_list)\n",
    "                    #new_append = re.sub(r'[^\\w\\s]', '', append_text)\n",
    "                    append_text = text[11:]\n",
    "                    write_path += str(count) + '.txt'\n",
    "                    with open(write_path, mode='w', encoding='utf-8') as f_write:\n",
    "                        f_write.write(append_text)\n",
    "                    count += 1\n",
    "    if not os.path.isdir('AmazonReviews/test'):\n",
    "        os.mkdir('AmazonReviews/test')\n",
    "        os.mkdir('AmazonReviews/test/neg')\n",
    "        os.mkdir('AmazonReviews/test/pos')\n",
    "        with open('test.ft.txt', mode='r', encoding='utf-8') as f_read:\n",
    "            eof = False\n",
    "            while not eof:\n",
    "                text_split = []\n",
    "                #append_list = []\n",
    "                text = f_read.readline()\n",
    "                if text == '':\n",
    "                    eof = True\n",
    "                else:\n",
    "                    text_split = text.split(' ')\n",
    "                    label = text_split[0]\n",
    "                    if label[-1] == '1':\n",
    "                        write_path = 'AmazonReviews/test/neg/'\n",
    "                    else:\n",
    "                        write_path = 'AmazonReviews/test/pos/'\n",
    "                    #append_list = [i for i in text_split[1:-1]]\n",
    "                    #append_text = ' '.join(append_list)\n",
    "                    #new_append = re.sub(r'[^\\w\\s]', '', append_text)\n",
    "                    append_text = text[11:]\n",
    "                    write_path += str(count) + '.txt'\n",
    "                    with open(write_path, mode='w', encoding='utf-8') as f_write:\n",
    "                        f_write.write(append_text)\n",
    "                    count += 1"
   ]
  },
  {
   "cell_type": "code",
   "execution_count": null,
   "metadata": {},
   "outputs": [],
   "source": [
    "### if running in colab, uncomment below to run the following installs\n",
    "#! pip install -q -U \"tensorflow-text==2.8.*\"\n",
    "#! pip install -q tf-models-official==2.7.0"
   ]
  },
  {
   "cell_type": "code",
   "execution_count": 10,
   "metadata": {},
   "outputs": [],
   "source": [
    "import tensorflow as tf\n",
    "import matplotlib.pyplot as plt\n",
    "import tensorflow_hub as hub\n",
    "import tensorflow_text as text\n",
    "from official.nlp import optimization  # to create AdamW optimizer\n",
    "\n",
    "tf.get_logger().setLevel('ERROR')"
   ]
  },
  {
   "cell_type": "code",
   "execution_count": 11,
   "metadata": {},
   "outputs": [
    {
     "name": "stdout",
     "output_type": "stream",
     "text": [
      "1 Physical GPUs, 1 Logical GPUs\n"
     ]
    }
   ],
   "source": [
    "# check if GPU(s) available and use if they are\n",
    "gpus = tf.config.list_physical_devices('GPU')\n",
    "if gpus:\n",
    "  try:\n",
    "    # Currently, memory growth needs to be the same across GPUs\n",
    "    for gpu in gpus:\n",
    "      tf.config.experimental.set_memory_growth(gpu, True)\n",
    "    logical_gpus = tf.config.list_logical_devices('GPU')\n",
    "    print(len(gpus), \"Physical GPUs,\", len(logical_gpus), \"Logical GPUs\")\n",
    "  except RuntimeError as e:\n",
    "    # Memory growth must be set before GPUs have been initialized\n",
    "    print(e)"
   ]
  },
  {
   "cell_type": "code",
   "execution_count": 12,
   "metadata": {},
   "outputs": [
    {
     "name": "stdout",
     "output_type": "stream",
     "text": [
      "Found 3600000 files belonging to 2 classes.\n",
      "Using 2880000 files for training.\n",
      "Found 3600000 files belonging to 2 classes.\n",
      "Using 720000 files for validation.\n",
      "Found 400000 files belonging to 2 classes.\n"
     ]
    }
   ],
   "source": [
    "# load dataset from directory, split training into train/validation (80/20)\n",
    "AUTOTUNE = tf.data.AUTOTUNE\n",
    "batch_size = 32\n",
    "seed = 42\n",
    "\n",
    "raw_train_ds = tf.keras.utils.text_dataset_from_directory(\n",
    "    'AmazonReviews/train',\n",
    "    batch_size=batch_size,\n",
    "    validation_split=0.2,\n",
    "    subset='training',\n",
    "    seed=seed)\n",
    "\n",
    "class_names = raw_train_ds.class_names\n",
    "train_ds = raw_train_ds.cache().prefetch(buffer_size=AUTOTUNE)\n",
    "\n",
    "val_ds = tf.keras.utils.text_dataset_from_directory(\n",
    "    'AmazonReviews/train',\n",
    "    batch_size=batch_size,\n",
    "    validation_split=0.2,\n",
    "    subset='validation',\n",
    "    seed=seed)\n",
    "\n",
    "val_ds = val_ds.cache().prefetch(buffer_size=AUTOTUNE)\n",
    "\n",
    "test_ds = tf.keras.utils.text_dataset_from_directory(\n",
    "    'AmazonReviews/test',\n",
    "    batch_size=batch_size)\n",
    "\n",
    "test_ds = test_ds.cache().prefetch(buffer_size=AUTOTUNE)"
   ]
  },
  {
   "cell_type": "code",
   "execution_count": null,
   "metadata": {},
   "outputs": [],
   "source": [
    "for text_bat, label_bat in train_ds.take(1):\n",
    "  for i in range(5):\n",
    "    print(f'Review: {text_bat.numpy()[i]}')\n",
    "    label = label_bat.numpy()[i]\n",
    "    print(f'Label : {label} ({class_names[label]})')"
   ]
  },
  {
   "cell_type": "code",
   "execution_count": 13,
   "metadata": {},
   "outputs": [],
   "source": [
    "# set paths for encoder and preprocessor\n",
    "bert_model_name = 'small_bert/bert_en_uncased_L-4_H-512_A-8'\n",
    "tfhub_encode = 'https://tfhub.dev/tensorflow/small_bert/bert_en_uncased_L-4_H-512_A-8/1'\n",
    "tfhub_preprocess = 'https://tfhub.dev/tensorflow/bert_en_uncased_preprocess/3'"
   ]
  },
  {
   "cell_type": "code",
   "execution_count": 14,
   "metadata": {},
   "outputs": [],
   "source": [
    "# load encoder and processor from paths above\n",
    "bert_preprocess_model = hub.KerasLayer(tfhub_preprocess)\n",
    "bert_model = hub.KerasLayer(tfhub_encode)"
   ]
  },
  {
   "cell_type": "code",
   "execution_count": 15,
   "metadata": {},
   "outputs": [],
   "source": [
    "def build_classifier_model():\n",
    "  text_input = tf.keras.layers.Input(shape=(), dtype=tf.string, name='text')\n",
    "  preprocessing_layer = hub.KerasLayer(tfhub_preprocess, name='preprocessing')\n",
    "  encoder_inputs = preprocessing_layer(text_input)\n",
    "  encoder = hub.KerasLayer(tfhub_encode, trainable=True, name='BERT_encoder')\n",
    "  outputs = encoder(encoder_inputs)\n",
    "  net = outputs['pooled_output']\n",
    "  net = tf.keras.layers.Dropout(0.1)(net)\n",
    "  net = tf.keras.layers.Dense(1, activation=None, name='classifier')(net)\n",
    "  return tf.keras.Model(text_input, net)"
   ]
  },
  {
   "cell_type": "code",
   "execution_count": 16,
   "metadata": {},
   "outputs": [],
   "source": [
    "text_test = ['this is such an amazing movie!']"
   ]
  },
  {
   "cell_type": "code",
   "execution_count": 17,
   "metadata": {},
   "outputs": [
    {
     "name": "stdout",
     "output_type": "stream",
     "text": [
      "Keys       : ['input_word_ids', 'input_type_ids', 'input_mask']\n",
      "Shape      : (1, 128)\n",
      "Word Ids   : [ 101 2023 2003 2107 2019 6429 3185  999  102    0    0    0]\n",
      "Input Mask : [1 1 1 1 1 1 1 1 1 0 0 0]\n",
      "Type Ids   : [0 0 0 0 0 0 0 0 0 0 0 0]\n"
     ]
    }
   ],
   "source": [
    "# look at outputs from text preprocessing layer\n",
    "text_preprocessed = bert_preprocess_model(text_test)\n",
    "print(f'Keys       : {list(text_preprocessed.keys())}')\n",
    "print(f'Shape      : {text_preprocessed[\"input_word_ids\"].shape}')\n",
    "print(f'Word Ids   : {text_preprocessed[\"input_word_ids\"][0, :12]}')\n",
    "print(f'Input Mask : {text_preprocessed[\"input_mask\"][0, :12]}')\n",
    "print(f'Type Ids   : {text_preprocessed[\"input_type_ids\"][0, :12]}')"
   ]
  },
  {
   "cell_type": "code",
   "execution_count": 18,
   "metadata": {},
   "outputs": [
    {
     "name": "stdout",
     "output_type": "stream",
     "text": [
      "Loaded BERT: https://tfhub.dev/tensorflow/small_bert/bert_en_uncased_L-4_H-512_A-8/1\n",
      "Pooled Outputs Shape:(1, 512)\n",
      "Pooled Outputs Values:[ 0.76262903  0.99280983 -0.1861189   0.36673838  0.15233721  0.65504515\n",
      "  0.9681153  -0.9486271   0.00216133 -0.9877732   0.06842745 -0.97630596]\n",
      "Sequence Outputs Shape:(1, 128, 512)\n",
      "Sequence Outputs Values:[[-0.2894633   0.34321198  0.33231443 ...  0.2130091   0.7102075\n",
      "  -0.05771086]\n",
      " [-0.28742015  0.31981093 -0.23018512 ...  0.5845504  -0.21329693\n",
      "   0.72692025]\n",
      " [-0.66156995  0.6887682  -0.87433    ...  0.1087732  -0.26173237\n",
      "   0.47855455]\n",
      " ...\n",
      " [-0.22561154 -0.28925592 -0.07064401 ...  0.47566026  0.8327717\n",
      "   0.4002531 ]\n",
      " [-0.29824257 -0.27473128 -0.05450523 ...  0.4884977   1.0955361\n",
      "   0.18163356]\n",
      " [-0.4437815   0.00930723  0.07223769 ...  0.1729011   1.1833247\n",
      "   0.07898059]]\n"
     ]
    }
   ],
   "source": [
    "# visualize BERT model outputs\n",
    "bert_results = bert_model(text_preprocessed)\n",
    "\n",
    "print(f'Loaded BERT: {tfhub_encode}')\n",
    "print(f'Pooled Outputs Shape:{bert_results[\"pooled_output\"].shape}')\n",
    "print(f'Pooled Outputs Values:{bert_results[\"pooled_output\"][0, :12]}')\n",
    "print(f'Sequence Outputs Shape:{bert_results[\"sequence_output\"].shape}')\n",
    "print(f'Sequence Outputs Values:{bert_results[\"sequence_output\"][0, :12]}')"
   ]
  },
  {
   "cell_type": "code",
   "execution_count": 19,
   "metadata": {},
   "outputs": [
    {
     "name": "stdout",
     "output_type": "stream",
     "text": [
      "tf.Tensor([[0.57457846]], shape=(1, 1), dtype=float32)\n"
     ]
    }
   ],
   "source": [
    "# build classifier, test output using text_test\n",
    "classifier_model = build_classifier_model()\n",
    "bert_raw_result = classifier_model(tf.constant(text_test))\n",
    "print(tf.sigmoid(bert_raw_result))"
   ]
  },
  {
   "cell_type": "code",
   "execution_count": 20,
   "metadata": {},
   "outputs": [],
   "source": [
    "# set loss and metrics for binary classification\n",
    "loss = tf.keras.losses.BinaryCrossentropy(from_logits=True)\n",
    "metrics = tf.metrics.BinaryAccuracy()"
   ]
  },
  {
   "cell_type": "code",
   "execution_count": 24,
   "metadata": {},
   "outputs": [],
   "source": [
    "# create adamw optimizer\n",
    "epochs = 3\n",
    "steps_per_epoch = tf.data.experimental.cardinality(train_ds).numpy()\n",
    "num_train_steps = steps_per_epoch * epochs\n",
    "num_warmup_steps = int(0.1*num_train_steps)\n",
    "\n",
    "init_lr = 3e-5\n",
    "optimizer = optimization.create_optimizer(init_lr=init_lr,\n",
    "                                          num_train_steps=num_train_steps,\n",
    "                                          num_warmup_steps=num_warmup_steps,\n",
    "                                          optimizer_type='adamw')"
   ]
  },
  {
   "cell_type": "code",
   "execution_count": 25,
   "metadata": {},
   "outputs": [],
   "source": [
    "# compile model\n",
    "classifier_model.compile(optimizer=optimizer,\n",
    "                         loss=loss,\n",
    "                         metrics=metrics)"
   ]
  },
  {
   "cell_type": "code",
   "execution_count": 26,
   "metadata": {},
   "outputs": [
    {
     "name": "stdout",
     "output_type": "stream",
     "text": [
      "Epoch 1/3\n",
      "90000/90000 [==============================] - 24593s 273ms/step - loss: 0.1342 - binary_accuracy: 0.9425 - val_loss: 0.1216 - val_binary_accuracy: 0.9593\n",
      "Epoch 2/3\n",
      "90000/90000 [==============================] - 23701s 263ms/step - loss: 0.1056 - binary_accuracy: 0.9642 - val_loss: 0.1185 - val_binary_accuracy: 0.9623\n",
      "Epoch 3/3\n",
      "90000/90000 [==============================] - 23690s 263ms/step - loss: 0.0882 - binary_accuracy: 0.9721 - val_loss: 0.1233 - val_binary_accuracy: 0.9638\n"
     ]
    }
   ],
   "source": [
    "# fine-tune model\n",
    "# approx runtime with 8Gb GPU was 6 hours/epoch - reduce training dataset size to decrease runtime\n",
    "history = classifier_model.fit(x=train_ds,\n",
    "                               validation_data=val_ds,\n",
    "                               epochs=epochs)"
   ]
  },
  {
   "cell_type": "code",
   "execution_count": 27,
   "metadata": {},
   "outputs": [
    {
     "name": "stdout",
     "output_type": "stream",
     "text": [
      "12500/12500 [==============================] - 1521s 122ms/step - loss: 0.1233 - binary_accuracy: 0.9640\n",
      "Loss: 0.123347207903862\n",
      "Accuracy: 0.9640424847602844\n"
     ]
    }
   ],
   "source": [
    "# evaluate model on test set\n",
    "loss, accuracy = classifier_model.evaluate(test_ds)\n",
    "\n",
    "print(f'Loss: {loss}')\n",
    "print(f'Accuracy: {accuracy}')"
   ]
  },
  {
   "cell_type": "code",
   "execution_count": 28,
   "metadata": {},
   "outputs": [
    {
     "name": "stdout",
     "output_type": "stream",
     "text": [
      "dict_keys(['loss', 'binary_accuracy', 'val_loss', 'val_binary_accuracy'])\n"
     ]
    },
    {
     "data": {
      "text/plain": [
       "<matplotlib.legend.Legend at 0x1db44aa2c70>"
      ]
     },
     "execution_count": 28,
     "metadata": {},
     "output_type": "execute_result"
    },
    {
     "data": {
      "image/png": "[encoded data removed]",
      "text/plain": [
       "<Figure size 720x432 with 2 Axes>"
      ]
     },
     "metadata": {
      "needs_background": "light"
     },
     "output_type": "display_data"
    }
   ],
   "source": [
    "# print train and validation loss/accuracy\n",
    "history_dict = history.history\n",
    "print(history_dict.keys())\n",
    "\n",
    "acc = history_dict['binary_accuracy']\n",
    "val_acc = history_dict['val_binary_accuracy']\n",
    "loss = history_dict['loss']\n",
    "val_loss = history_dict['val_loss']\n",
    "\n",
    "epochs = range(1, len(acc) + 1)\n",
    "fig = plt.figure(figsize=(10, 6))\n",
    "fig.tight_layout()\n",
    "\n",
    "plt.subplot(2, 1, 1)\n",
    "# r is for \"solid red line\"\n",
    "plt.plot(epochs, loss, 'r', label='Training loss')\n",
    "# b is for \"solid blue line\"\n",
    "plt.plot(epochs, val_loss, 'b', label='Validation loss')\n",
    "plt.title('Training and validation loss')\n",
    "# plt.xlabel('Epochs')\n",
    "plt.ylabel('Loss')\n",
    "plt.legend()\n",
    "\n",
    "plt.subplot(2, 1, 2)\n",
    "plt.plot(epochs, acc, 'r', label='Training acc')\n",
    "plt.plot(epochs, val_acc, 'b', label='Validation acc')\n",
    "plt.title('Training and validation accuracy')\n",
    "plt.xlabel('Epochs')\n",
    "plt.ylabel('Accuracy')\n",
    "plt.legend(loc='lower right')"
   ]
  },
  {
   "cell_type": "code",
   "execution_count": 39,
   "metadata": {},
   "outputs": [
    {
     "name": "stdout",
     "output_type": "stream",
     "text": [
      "input: I wish I could say this product was great : score: 0.980447\n",
      "input: this product is not great      : score: 0.004347\n",
      "\n"
     ]
    }
   ],
   "source": [
    "# test simple, negative review with mixed sentiment\n",
    "def print_my_examples(inputs, results):\n",
    "  result_for_printing = \\\n",
    "    [f'input: {inputs[i]:<30} : score: {results[i][0]:.6f}'\n",
    "                         for i in range(len(inputs))]\n",
    "  print(*result_for_printing, sep='\\n')\n",
    "  print()\n",
    "\n",
    "\n",
    "examples = ['I wish I could say this product was great',\n",
    "            'this product is not great']\n",
    "results = tf.sigmoid(classifier_model(tf.constant(examples)))\n",
    "print_my_examples(examples, results)"
   ]
  },
  {
   "cell_type": "code",
   "execution_count": 29,
   "metadata": {},
   "outputs": [
    {
     "name": "stderr",
     "output_type": "stream",
     "text": [
      "WARNING:absl:Found untraced functions such as restored_function_body, restored_function_body, restored_function_body, restored_function_body, restored_function_body while saving (showing 5 of 124). These functions will not be directly callable after loading.\n"
     ]
    }
   ],
   "source": [
    "# save model for future use\n",
    "dataset_name = 'amazon_reviews'\n",
    "saved_model_path = './{}_bert'.format(dataset_name.replace('/', '_'))\n",
    "\n",
    "classifier_model.save(saved_model_path, include_optimizer=False)"
   ]
  }
 ],
 "metadata": {
  "kernelspec": {
   "display_name": ".venv",
   "language": "python",
   "name": ".venv"
  },
  "language_info": {
   "codemirror_mode": {
    "name": "ipython",
    "version": 3
   },
   "file_extension": ".py",
   "mimetype": "text/x-python",
   "name": "python",
   "nbconvert_exporter": "python",
   "pygments_lexer": "ipython3",
   "version": "3.8.10"
  },
  "orig_nbformat": 4
 },
 "nbformat": 4,
 "nbformat_minor": 2
}
